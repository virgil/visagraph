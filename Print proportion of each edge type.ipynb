{
 "cells": [
  {
   "cell_type": "code",
   "execution_count": 1,
   "metadata": {
    "collapsed": true,
    "deletable": true,
    "editable": true
   },
   "outputs": [],
   "source": [
    "INPUT_FILENAME = 'new_visa_edgedata.json'\n",
    "\n",
    "\n",
    "from pprint import pprint\n",
    "import json"
   ]
  },
  {
   "cell_type": "code",
   "execution_count": 9,
   "metadata": {
    "collapsed": false,
    "deletable": true,
    "editable": true
   },
   "outputs": [
    {
     "name": "stdout",
     "output_type": "stream",
     "text": [
      "AM -> AZ\n",
      "ER -> DJ\n",
      "IL -> AE\n",
      "IL -> BD\n",
      "IL -> BN\n",
      "IL -> DZ\n",
      "IL -> IR\n",
      "IL -> KW\n",
      "IL -> LB\n",
      "IL -> LY\n",
      "IL -> MY\n",
      "IL -> OM\n",
      "IL -> PK\n",
      "IL -> SA\n",
      "IL -> SD\n",
      "IL -> SY\n",
      "IL -> YE\n",
      "IR -> LY\n",
      "PS -> LB\n",
      "PS -> MG\n",
      "SO -> GB\n",
      "SO -> HU\n",
      "SO -> IT\n",
      "SO -> SM\n",
      "SO -> VA\n",
      "SY -> LY\n",
      "TW -> BR\n",
      "XK -> AM\n",
      "XK -> BR\n",
      "XK -> CU\n",
      "onarrival \t 0.171\n",
      "required \t 0.527\n",
      "free \t 0.297\n",
      "refused \t 0.005\n"
     ]
    }
   ],
   "source": [
    "#z = {}\n",
    "\n",
    "with open(INPUT_FILENAME, 'r') as f:\n",
    "    d = json.load(f)\n",
    "\n",
    "#pprint(d)\n",
    "\n",
    "z = {}\n",
    "total = 0\n",
    "\n",
    "for from_country, to_countrys in d.items():\n",
    "    for to_country, the_value in to_countrys.items():\n",
    "        \n",
    "        z.setdefault( the_value, 0 )\n",
    "        \n",
    "        z[ the_value ] += 1\n",
    "        total += 1\n",
    "        \n",
    "        \n",
    "        if the_value == 'refused' and to_country != 'PS':\n",
    "            print(from_country,'->', to_country)\n",
    "        \n",
    "#pprint(z)\n",
    "\n",
    "for entry, count in z.items():\n",
    "    percentage = round(count / total,3)\n",
    "    print(entry,'\\t', percentage )"
   ]
  },
  {
   "cell_type": "code",
   "execution_count": 34,
   "metadata": {
    "collapsed": false,
    "deletable": true,
    "editable": true
   },
   "outputs": [],
   "source": []
  },
  {
   "cell_type": "code",
   "execution_count": null,
   "metadata": {
    "collapsed": true,
    "deletable": true,
    "editable": true
   },
   "outputs": [],
   "source": []
  },
  {
   "cell_type": "code",
   "execution_count": null,
   "metadata": {
    "collapsed": true,
    "deletable": true,
    "editable": true
   },
   "outputs": [],
   "source": []
  }
 ],
 "metadata": {
  "kernelspec": {
   "display_name": "Python 3",
   "language": "python",
   "name": "python3"
  },
  "language_info": {
   "codemirror_mode": {
    "name": "ipython",
    "version": 3
   },
   "file_extension": ".py",
   "mimetype": "text/x-python",
   "name": "python",
   "nbconvert_exporter": "python",
   "pygments_lexer": "ipython3",
   "version": "3.6.0"
  }
 },
 "nbformat": 4,
 "nbformat_minor": 1
}
